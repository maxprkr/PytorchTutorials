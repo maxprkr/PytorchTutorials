{
 "cells": [
  {
   "cell_type": "code",
   "execution_count": 1,
   "id": "97a75772ce2ae20d",
   "metadata": {
    "ExecuteTime": {
     "end_time": "2023-12-21T06:28:08.591810600Z",
     "start_time": "2023-12-21T06:28:07.486607800Z"
    },
    "collapsed": false
   },
   "outputs": [],
   "source": [
    "import math\n",
    "import torch\n",
    "import torch.nn as nn\n",
    "import torch.optim as optim\n",
    "from torchtext.datasets import WikiText2\n",
    "from torchtext.data.utils import get_tokenizer\n",
    "from torchtext.vocab import build_vocab_from_iterator\n",
    "from torch.utils.data import DataLoader"
   ]
  },
  {
   "cell_type": "code",
   "execution_count": 3,
   "id": "a76113129ccb8b4",
   "metadata": {
    "ExecuteTime": {
     "end_time": "2023-12-21T06:28:12.226728900Z",
     "start_time": "2023-12-21T06:28:12.210930Z"
    },
    "collapsed": false
   },
   "outputs": [],
   "source": [
    "class Embedder(nn.Module):\n",
    "    def __init__(self, vocab_size, d_model):\n",
    "        super().__init__()\n",
    "        self.embed = nn.Embedding(vocab_size, d_model)\n",
    "    def forward(self, x):\n",
    "        return self.embed(x)"
   ]
  },
  {
   "cell_type": "code",
   "execution_count": 4,
   "id": "f6857e241c6ee147",
   "metadata": {
    "ExecuteTime": {
     "end_time": "2023-12-21T06:28:16.892029600Z",
     "start_time": "2023-12-21T06:28:16.879329700Z"
    },
    "collapsed": false
   },
   "outputs": [],
   "source": [
    "class PositionalEncoder(nn.Module):\n",
    "    def __init__(self, d_model, max_seq_len = 80):\n",
    "        super().__init__()\n",
    "        self.d_model = d_model\n",
    "\n",
    "        # create constant 'pe' matrix with values dependant on \n",
    "        # pos and i\n",
    "        pe = torch.zeros(max_seq_len, d_model)\n",
    "        for pos in range(max_seq_len):\n",
    "            for i in range(0, d_model, 2):\n",
    "                pe[pos, i] = \\\n",
    "                    math.sin(pos / (10000 ** ((2 * i)/d_model)))\n",
    "                pe[pos, i + 1] = \\\n",
    "                    math.cos(pos / (10000 ** ((2 * (i + 1))/d_model)))\n",
    "\n",
    "        pe = pe.unsqueeze(0)\n",
    "        self.register_buffer('pe', pe)\n",
    "\n",
    "\n",
    "    def forward(self, x):\n",
    "        # make embeddings relatively larger\n",
    "        x = x * math.sqrt(self.d_model)\n",
    "        #add constant to embedding\n",
    "        seq_len = x.size(1)\n",
    "        x = x + Variable(self.pe[:,:seq_len], \\\n",
    "                         requires_grad=False).cuda()\n",
    "        return x"
   ]
  },
  {
   "cell_type": "code",
   "execution_count": 5,
   "id": "c85c1fa7645c9f49",
   "metadata": {
    "ExecuteTime": {
     "end_time": "2023-12-21T06:28:18.089897700Z",
     "start_time": "2023-12-21T06:28:18.042189800Z"
    },
    "collapsed": false
   },
   "outputs": [],
   "source": [
    "batch = next(iter(train_iter))\n",
    "input_seq = batch.English.transpose(0,1)\n",
    "input_pad = EN_TEXT.vocab.stoi['<pad>']\n",
    "# creates mask with 0s wherever there is padding in the input\n",
    "input_msk = (input_seq != input_pad).unsqueeze(1)"
   ]
  },
  {
   "cell_type": "code",
   "execution_count": 19,
   "id": "d4f36bc242ce96d2",
   "metadata": {
    "ExecuteTime": {
     "end_time": "2023-12-21T06:28:19.508230200Z",
     "start_time": "2023-12-21T06:28:19.482965600Z"
    },
    "collapsed": false
   },
   "outputs": [
    {
     "ename": "NameError",
     "evalue": "name 'batch' is not defined",
     "output_type": "error",
     "traceback": [
      "\u001b[1;31m---------------------------------------------------------------------------\u001b[0m",
      "\u001b[1;31mNameError\u001b[0m                                 Traceback (most recent call last)",
      "Cell \u001b[1;32mIn[19], line 2\u001b[0m\n\u001b[0;32m      1\u001b[0m \u001b[38;5;66;03m# create mask as before\u001b[39;00m\n\u001b[1;32m----> 2\u001b[0m target_seq \u001b[38;5;241m=\u001b[39m \u001b[43mbatch\u001b[49m\u001b[38;5;241m.\u001b[39mFrench\u001b[38;5;241m.\u001b[39mtranspose(\u001b[38;5;241m0\u001b[39m,\u001b[38;5;241m1\u001b[39m)\n\u001b[0;32m      3\u001b[0m target_pad \u001b[38;5;241m=\u001b[39m FR_TEXT\u001b[38;5;241m.\u001b[39mvocab\u001b[38;5;241m.\u001b[39mstoi[\u001b[38;5;124m'\u001b[39m\u001b[38;5;124m<pad>\u001b[39m\u001b[38;5;124m'\u001b[39m]\n\u001b[0;32m      4\u001b[0m target_msk \u001b[38;5;241m=\u001b[39m (target_seq \u001b[38;5;241m!=\u001b[39m target_pad)\u001b[38;5;241m.\u001b[39munsqueeze(\u001b[38;5;241m1\u001b[39m)\n",
      "\u001b[1;31mNameError\u001b[0m: name 'batch' is not defined"
     ]
    }
   ],
   "source": [
    "# create mask as before\n",
    "target_seq = batch.French.transpose(0,1)\n",
    "target_pad = FR_TEXT.vocab.stoi['<pad>']\n",
    "target_msk = (target_seq != target_pad).unsqueeze(1)\n",
    "size = target_seq.size(1) # get seq_len for matrix\n",
    "nopeak_mask = np.triu(np.ones(1, size, size),\n",
    "                      k=1).astype('uint8')\n",
    "nopeak_mask = Variable(torch.from_numpy(nopeak_mask) == 0)\n",
    "target_msk = target_msk & nopeak_mask"
   ]
  },
  {
   "cell_type": "code",
   "execution_count": null,
   "id": "ba223ce396ab2865",
   "metadata": {
    "ExecuteTime": {
     "start_time": "2023-12-21T06:27:51.179852900Z"
    },
    "collapsed": false
   },
   "outputs": [],
   "source": [
    "class MultiHeadAttention(nn.Module):\n",
    "    def __init__(self, heads, d_model, dropout = 0.1):\n",
    "        super().__init__()\n",
    "\n",
    "        self.d_model = d_model\n",
    "        self.d_k = d_model // heads\n",
    "        self.h = heads\n",
    "\n",
    "        self.q_linear = nn.Linear(d_model, d_model)\n",
    "        self.v_linear = nn.Linear(d_model, d_model)\n",
    "        self.k_linear = nn.Linear(d_model, d_model)\n",
    "        self.dropout = nn.Dropout(dropout)\n",
    "        self.out = nn.Linear(d_model, d_model)\n",
    "\n",
    "    def forward(self, q, k, v, mask=None):\n",
    "\n",
    "        bs = q.size(0)\n",
    "\n",
    "        # perform linear operation and split into h heads\n",
    "\n",
    "        k = self.k_linear(k).view(bs, -1, self.h, self.d_k)\n",
    "        q = self.q_linear(q).view(bs, -1, self.h, self.d_k)\n",
    "        v = self.v_linear(v).view(bs, -1, self.h, self.d_k)\n",
    "\n",
    "        # transpose to get dimensions bs * h * sl * d_model\n",
    "\n",
    "        k = k.transpose(1,2)\n",
    "        q = q.transpose(1,2)\n",
    "        v = v.transpose(1,2)\n",
    "        # calculate attention using function we will define next\n",
    "        scores = attention(q, k, v, self.d_k, mask, self.dropout)\n",
    "\n",
    "        # concatenate heads and put through final linear layer\n",
    "        concat = scores.transpose(1,2).contiguous() \\\n",
    "            .view(bs, -1, self.d_model)\n",
    "\n",
    "        output = self.out(concat)\n",
    "\n",
    "        return output"
   ]
  },
  {
   "cell_type": "code",
   "execution_count": null,
   "id": "21cf77bfcf767d7d",
   "metadata": {
    "ExecuteTime": {
     "start_time": "2023-12-21T06:27:51.180870500Z"
    },
    "collapsed": false
   },
   "outputs": [],
   "source": [
    "def attention(q, k, v, d_k, mask=None, dropout=None):\n",
    "\n",
    "    scores = torch.matmul(q, k.transpose(-2, -1)) /  math.sqrt(d_k)\n",
    "if mask is not None:\n",
    "    mask = mask.unsqueeze(1)\n",
    "    scores = scores.masked_fill(mask == 0, -1e9)\n",
    "scores = F.softmax(scores, dim=-1)\n",
    "\n",
    "if dropout is not None:\n",
    "    scores = dropout(scores)\n",
    "\n",
    "output = torch.matmul(scores, v)\n",
    "return output"
   ]
  },
  {
   "cell_type": "code",
   "execution_count": null,
   "id": "2bbfb0ad5881e786",
   "metadata": {
    "ExecuteTime": {
     "start_time": "2023-12-21T06:27:51.182937400Z"
    },
    "collapsed": false
   },
   "outputs": [],
   "source": [
    "class FeedForward(nn.Module):\n",
    "    def __init__(self, d_model, d_ff=2048, dropout = 0.1):\n",
    "        super().__init__()\n",
    "        # We set d_ff as a default to 2048\n",
    "        self.linear_1 = nn.Linear(d_model, d_ff)\n",
    "        self.dropout = nn.Dropout(dropout)\n",
    "        self.linear_2 = nn.Linear(d_ff, d_model)\n",
    "    def forward(self, x):\n",
    "        x = self.dropout(F.relu(self.linear_1(x)))\n",
    "        x = self.linear_2(x)\n",
    "        return x"
   ]
  },
  {
   "cell_type": "code",
   "execution_count": null,
   "id": "4fe215b6fcae8adf",
   "metadata": {
    "ExecuteTime": {
     "start_time": "2023-12-21T06:27:51.182937400Z"
    },
    "collapsed": false
   },
   "outputs": [],
   "source": [
    "class Norm(nn.Module):\n",
    "    def __init__(self, d_model, eps = 1e-6):\n",
    "        super().__init__()\n",
    "\n",
    "        self.size = d_model\n",
    "        # create two learnable parameters to calibrate normalisation\n",
    "        self.alpha = nn.Parameter(torch.ones(self.size))\n",
    "        self.bias = nn.Parameter(torch.zeros(self.size))\n",
    "        self.eps = eps\n",
    "    def forward(self, x):\n",
    "        norm = self.alpha * (x - x.mean(dim=-1, keepdim=True)) \\\n",
    "               / (x.std(dim=-1, keepdim=True) + self.eps) + self.bias\n",
    "        return norm"
   ]
  },
  {
   "cell_type": "code",
   "execution_count": null,
   "id": "1a3ae72dedad8906",
   "metadata": {
    "ExecuteTime": {
     "end_time": "2023-12-21T06:27:51.198737800Z",
     "start_time": "2023-12-21T06:27:51.184117100Z"
    },
    "collapsed": false
   },
   "outputs": [],
   "source": [
    "# build an encoder layer with one multi-head attention layer and one # feed-forward layer\n",
    "class EncoderLayer(nn.Module):\n",
    "    def __init__(self, d_model, heads, dropout = 0.1):\n",
    "        super().__init__()\n",
    "        self.norm_1 = Norm(d_model)\n",
    "        self.norm_2 = Norm(d_model)\n",
    "        self.attn = MultiHeadAttention(heads, d_model)\n",
    "        self.ff = FeedForward(d_model)\n",
    "        self.dropout_1 = nn.Dropout(dropout)\n",
    "        self.dropout_2 = nn.Dropout(dropout)\n",
    "\n",
    "    def forward(self, x, mask):\n",
    "        x2 = self.norm_1(x)\n",
    "        x = x + self.dropout_1(self.attn(x2,x2,x2,mask))\n",
    "        x2 = self.norm_2(x)\n",
    "        x = x + self.dropout_2(self.ff(x2))\n",
    "        return x\n",
    "\n",
    "# build a decoder layer with two multi-head attention layers and\n",
    "# one feed-forward layer\n",
    "class DecoderLayer(nn.Module):\n",
    "    def __init__(self, d_model, heads, dropout=0.1):\n",
    "        super().__init__()\n",
    "        self.norm_1 = Norm(d_model)\n",
    "        self.norm_2 = Norm(d_model)\n",
    "        self.norm_3 = Norm(d_model)\n",
    "\n",
    "        self.dropout_1 = nn.Dropout(dropout)\n",
    "        self.dropout_2 = nn.Dropout(dropout)\n",
    "        self.dropout_3 = nn.Dropout(dropout)\n",
    "\n",
    "        self.attn_1 = MultiHeadAttention(heads, d_model)\n",
    "        self.attn_2 = MultiHeadAttention(heads, d_model)\n",
    "        self.ff = FeedForward(d_model).cuda()\n",
    "def forward(self, x, e_outputs, src_mask, trg_mask):\n",
    "    x2 = self.norm_1(x)\n",
    "    x = x + self.dropout_1(self.attn_1(x2, x2, x2, trg_mask))\n",
    "    x2 = self.norm_2(x)\n",
    "    x = x + self.dropout_2(self.attn_2(x2, e_outputs, e_outputs,\n",
    "                                       src_mask))\n",
    "    x2 = self.norm_3(x)\n",
    "    x = x + self.dropout_3(self.ff(x2))\n",
    "    return x\n",
    "# We can then build a convenient cloning function that can generate multiple layers:\n",
    "def get_clones(module, N):\n",
    "    return nn.ModuleList([copy.deepcopy(module) for i in range(N)])"
   ]
  },
  {
   "cell_type": "code",
   "execution_count": null,
   "id": "3f50064d3c7a2423",
   "metadata": {
    "ExecuteTime": {
     "start_time": "2023-12-21T06:27:51.186159700Z"
    },
    "collapsed": false
   },
   "outputs": [],
   "source": [
    "class Encoder(nn.Module):\n",
    "    def __init__(self, vocab_size, d_model, N, heads):\n",
    "        super().__init__()\n",
    "        self.N = N\n",
    "        self.embed = Embedder(vocab_size, d_model)\n",
    "        self.pe = PositionalEncoder(d_model)\n",
    "        self.layers = get_clones(EncoderLayer(d_model, heads), N)\n",
    "        self.norm = Norm(d_model)\n",
    "    def forward(self, src, mask):\n",
    "        x = self.embed(src)\n",
    "        x = self.pe(x)\n",
    "        for i in range(N):\n",
    "            x = self.layers[i](x, mask)\n",
    "        return self.norm(x)\n",
    "\n",
    "class Decoder(nn.Module):\n",
    "    def __init__(self, vocab_size, d_model, N, heads):\n",
    "        super().__init__()\n",
    "        self.N = N\n",
    "        self.embed = Embedder(vocab_size, d_model)\n",
    "        self.pe = PositionalEncoder(d_model)\n",
    "        self.layers = get_clones(DecoderLayer(d_model, heads), N)\n",
    "        self.norm = Norm(d_model)\n",
    "    def forward(self, trg, e_outputs, src_mask, trg_mask):\n",
    "        x = self.embed(trg)\n",
    "        x = self.pe(x)\n",
    "        for i in range(self.N):\n",
    "            x = self.layers[i](x, e_outputs, src_mask, trg_mask)\n",
    "        return self.norm(x)"
   ]
  },
  {
   "cell_type": "code",
   "execution_count": null,
   "id": "525064fdfed0635f",
   "metadata": {
    "ExecuteTime": {
     "start_time": "2023-12-21T06:27:51.187261600Z"
    },
    "collapsed": false
   },
   "outputs": [],
   "source": []
  },
  {
   "cell_type": "code",
   "execution_count": null,
   "id": "93411897abaec69a",
   "metadata": {
    "ExecuteTime": {
     "start_time": "2023-12-21T06:27:51.188274300Z"
    },
    "collapsed": false
   },
   "outputs": [],
   "source": [
    "class Transformer(nn.Module):\n",
    "    def __init__(self, src_vocab, trg_vocab, d_model, N, heads):\n",
    "        super().__init__()\n",
    "        self.encoder = Encoder(src_vocab, d_model, N, heads)\n",
    "        self.decoder = Decoder(trg_vocab, d_model, N, heads)\n",
    "        self.out = nn.Linear(d_model, trg_vocab)\n",
    "    def forward(self, src, trg, src_mask, trg_mask):\n",
    "        e_outputs = self.encoder(src, src_mask)\n",
    "        d_output = self.decoder(trg, e_outputs, src_mask, trg_mask)\n",
    "        output = self.out(d_output)\n",
    "        return output\n",
    "# we don't perform softmax on the output as this will be handled \n",
    "# automatically by our loss function"
   ]
  },
  {
   "cell_type": "code",
   "execution_count": null,
   "id": "909722ca5000aa2f",
   "metadata": {
    "ExecuteTime": {
     "start_time": "2023-12-21T06:27:51.188274300Z"
    },
    "collapsed": false
   },
   "outputs": [],
   "source": []
  },
  {
   "cell_type": "code",
   "execution_count": null,
   "id": "c25aea166df052c1",
   "metadata": {
    "ExecuteTime": {
     "start_time": "2023-12-21T06:27:51.189305200Z"
    },
    "collapsed": false
   },
   "outputs": [],
   "source": [
    "d_model = 512\n",
    "heads = 8\n",
    "N = 6\n",
    "src_vocab = len(EN_TEXT.vocab)\n",
    "trg_vocab = len(FR_TEXT.vocab)\n",
    "model = Transformer(src_vocab, trg_vocab, d_model, N, heads)\n",
    "for p in model.parameters():\n",
    "    if p.dim() > 1:\n",
    "        nn.init.xavier_uniform_(p)\n",
    "# this code is very important! It initialises the parameters with a\n",
    "# range of values that stops the signal fading or getting too big.\n",
    "# See this blog for a mathematical explanation.\n",
    "optim = torch.optim.Adam(model.parameters(), lr=0.0001, betas=(0.9, 0.98), eps=1e-9)"
   ]
  },
  {
   "cell_type": "code",
   "execution_count": null,
   "id": "4c2cfeb6ed57ba58",
   "metadata": {
    "ExecuteTime": {
     "start_time": "2023-12-21T06:27:51.190330700Z"
    },
    "collapsed": false
   },
   "outputs": [],
   "source": [
    "def train_model(epochs, print_every=100):\n",
    "\n",
    "model.train()\n",
    "\n",
    "start = time.time()\n",
    "temp = start\n",
    "\n",
    "total_loss = 0\n",
    "\n",
    "for epoch in range(epochs):\n",
    "\n",
    "for i, batch in enumerate(train_iter):\n",
    "src = batch.English.transpose(0,1)\n",
    "trg = batch.French.transpose(0,1)\n",
    "# the French sentence we input has all words except\n",
    "# the last, as it is using each word to predict the next\n",
    "\n",
    "trg_input = trg[:, :-1]\n",
    "\n",
    "# the words we are trying to predict\n",
    "\n",
    "targets = trg[:, 1:].contiguous().view(-1)\n",
    "\n",
    "# create function to make masks using mask code above\n",
    "\n",
    "src_mask, trg_mask = create_masks(src, trg_input)\n",
    "\n",
    "preds = model(src, trg_input, src_mask, trg_mask)\n",
    "\n",
    "optim.zero_grad()\n",
    "\n",
    "loss = F.cross_entropy(preds.view(-1, preds.size(-1)),\n",
    "                       results, ignore_index=target_pad)\n",
    "loss.backward()\n",
    "optim.step()\n",
    "\n",
    "total_loss += loss.data[0]\n",
    "if (i + 1) % print_every == 0:\n",
    "loss_avg = total_loss / print_every\n",
    "print(\"time = %dm, epoch %d, iter = %d, loss = %.3f,\n",
    "      %ds per %d iters\" % ((time.time() - start) // 60,\n",
    "epoch + 1, i + 1, loss_avg, time.time() - temp,\n",
    "print_every))\n",
    "total_loss = 0\n",
    "temp = time.time()"
   ]
  },
  {
   "cell_type": "code",
   "execution_count": null,
   "id": "5bc30f90b4b47f54",
   "metadata": {
    "ExecuteTime": {
     "start_time": "2023-12-21T06:27:51.191351400Z"
    },
    "collapsed": false
   },
   "outputs": [],
   "source": [
    "def translate(model, src, max_len = 80, custom_string=False):\n",
    "\n",
    "    model.eval()\n",
    "if custom_sentence == True:\n",
    "    src = tokenize_en(src)\n",
    "    sentence= \\\n",
    "        Variable(torch.LongTensor([[EN_TEXT.vocab.stoi[tok] for tok\n",
    "                                    in sentence]])).cuda()\n",
    "src_mask = (src != input_pad).unsqueeze(-2)\n",
    "e_outputs = model.encoder(src, src_mask)\n",
    "\n",
    "outputs = torch.zeros(max_len).type_as(src.data)\n",
    "outputs[0] = torch.LongTensor([FR_TEXT.vocab.stoi['<sos>']])\n",
    "for i in range(1, max_len):\n",
    "\n",
    "    trg_mask = np.triu(np.ones((1, i, i), k=1).astype('uint8')\n",
    "    trg_mask= Variable(torch.from_numpy(trg_mask) == 0).cuda()\n",
    "\n",
    "    out = model.out(model.decoder(outputs[:i].unsqueeze(0),\n",
    "                                  e_outputs, src_mask, trg_mask))\n",
    "    out = F.softmax(out, dim=-1)\n",
    "    val, ix = out[:, -1].data.topk(1)\n",
    "\n",
    "    outputs[i] = ix[0][0]\n",
    "    if ix[0][0] == FR_TEXT.vocab.stoi['<eos>']:\n",
    "        break\n",
    "return ' '.join(\n",
    "    [FR_TEXT.vocab.itos[ix] for ix in outputs[:i]]\n",
    ")"
   ]
  },
  {
   "cell_type": "code",
   "execution_count": null,
   "id": "ca232024837689ac",
   "metadata": {
    "ExecuteTime": {
     "start_time": "2023-12-21T06:27:51.191351400Z"
    },
    "collapsed": false
   },
   "outputs": [],
   "source": []
  },
  {
   "cell_type": "code",
   "execution_count": null,
   "id": "4aebe178e21988b2",
   "metadata": {
    "ExecuteTime": {
     "start_time": "2023-12-21T06:27:51.192379600Z"
    },
    "collapsed": false
   },
   "outputs": [],
   "source": []
  },
  {
   "cell_type": "code",
   "execution_count": null,
   "id": "de27b932b7545562",
   "metadata": {
    "ExecuteTime": {
     "start_time": "2023-12-21T06:27:51.193405400Z"
    },
    "collapsed": false
   },
   "outputs": [],
   "source": []
  },
  {
   "cell_type": "code",
   "execution_count": null,
   "id": "69ac67ecb108812c",
   "metadata": {
    "ExecuteTime": {
     "start_time": "2023-12-21T06:27:51.194429900Z"
    },
    "collapsed": false
   },
   "outputs": [],
   "source": []
  }
 ],
 "metadata": {
  "kernelspec": {
   "display_name": "Python 3 (ipykernel)",
   "language": "python",
   "name": "python3"
  },
  "language_info": {
   "codemirror_mode": {
    "name": "ipython",
    "version": 3
   },
   "file_extension": ".py",
   "mimetype": "text/x-python",
   "name": "python",
   "nbconvert_exporter": "python",
   "pygments_lexer": "ipython3",
   "version": "3.9.18"
  }
 },
 "nbformat": 4,
 "nbformat_minor": 5
}
