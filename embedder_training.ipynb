{
 "cells": [
  {
   "cell_type": "markdown",
   "id": "d36e96a4-9dc9-4894-8af5-42ae5db0be04",
   "metadata": {},
   "source": [
    "# Embedder"
   ]
  },
  {
   "cell_type": "markdown",
   "id": "26246fff-f8fa-4bab-a38b-2e87b5a3fd3e",
   "metadata": {},
   "source": [
    "## Setup"
   ]
  },
  {
   "cell_type": "code",
   "execution_count": 15,
   "id": "63c678f5-f3b8-4223-bff0-2aa5b7bdf6d3",
   "metadata": {
    "ExecuteTime": {
     "end_time": "2023-12-19T02:18:20.414517100Z",
     "start_time": "2023-12-19T02:18:20.397130700Z"
    }
   },
   "outputs": [],
   "source": [
    "import torch\n",
    "import os\n",
    "import subprocess\n",
    "import tensorflow as tf"
   ]
  },
  {
   "cell_type": "code",
   "execution_count": 16,
   "id": "6a058eb3-4ff1-4804-b86b-70488987c30c",
   "metadata": {
    "ExecuteTime": {
     "end_time": "2023-12-19T02:18:20.446998500Z",
     "start_time": "2023-12-19T02:18:20.409684500Z"
    }
   },
   "outputs": [
    {
     "data": {
      "text/plain": "True"
     },
     "execution_count": 16,
     "metadata": {},
     "output_type": "execute_result"
    }
   ],
   "source": [
    "torch.cuda.is_available()"
   ]
  },
  {
   "cell_type": "code",
   "execution_count": 17,
   "id": "87f954e8-9d96-4704-9813-e06537bf6363",
   "metadata": {
    "ExecuteTime": {
     "end_time": "2023-12-19T02:18:20.496286100Z",
     "start_time": "2023-12-19T02:18:20.424119Z"
    }
   },
   "outputs": [
    {
     "name": "stdout",
     "output_type": "stream",
     "text": [
      "Starting download script\n",
      "Downloading datasets\r\n"
     ]
    }
   ],
   "source": [
    "if not os.path.exists(\"datasets/DATASET-NAME\"):\n",
    "    print(\"Starting download script\")\n",
    "    output = subprocess.check_output([\"python\", \"download_datasets.py\"])\n",
    "    print(output.decode())"
   ]
  },
  {
   "cell_type": "markdown",
   "id": "95fe6cab-81d2-4e71-995a-d4c8ebe9c7dd",
   "metadata": {},
   "source": [
    "---\n",
    "## Dataset download"
   ]
  },
  {
   "cell_type": "code",
   "execution_count": 18,
   "id": "a1f5dce7-1d26-42fa-9dc4-79d906521169",
   "metadata": {
    "ExecuteTime": {
     "end_time": "2023-12-19T02:18:20.499431Z",
     "start_time": "2023-12-19T02:18:20.484707300Z"
    }
   },
   "outputs": [],
   "source": [
    "import tensorflow_datasets as tfds"
   ]
  },
  {
   "cell_type": "code",
   "execution_count": 19,
   "id": "cc131f16-4096-4211-aa2c-32169d25deeb",
   "metadata": {
    "scrolled": true,
    "ExecuteTime": {
     "end_time": "2023-12-19T02:18:20.556780700Z",
     "start_time": "2023-12-19T02:18:20.501508500Z"
    }
   },
   "outputs": [
    {
     "data": {
      "text/plain": "['paws_wiki',\n 'paws_x_wiki',\n 'salient_span_wikipedia',\n 'wiki40b',\n 'wiki_auto',\n 'wiki_bio',\n 'wiki_dialog',\n 'wiki_table_questions',\n 'wiki_table_text',\n 'wikiann',\n 'wikihow',\n 'wikipedia',\n 'wikipedia_toxicity_subtypes']"
     },
     "execution_count": 19,
     "metadata": {},
     "output_type": "execute_result"
    }
   ],
   "source": [
    "[i for i in tfds.list_builders() if 'wiki' in i]"
   ]
  },
  {
   "cell_type": "markdown",
   "id": "7d5a04a0-47ca-4e79-bb87-60451979933c",
   "metadata": {},
   "source": [
    "Dataset of choice:\n",
    "https://www.tensorflow.org/datasets/catalog/wiki_auto"
   ]
  },
  {
   "cell_type": "code",
   "execution_count": 20,
   "id": "7140888b-f060-40b1-b006-4150e903995c",
   "metadata": {
    "ExecuteTime": {
     "end_time": "2023-12-19T02:18:20.558936400Z",
     "start_time": "2023-12-19T02:18:20.515303400Z"
    }
   },
   "outputs": [],
   "source": [
    "builder = tfds.builder('wiki_auto')"
   ]
  },
  {
   "cell_type": "code",
   "execution_count": 21,
   "id": "2dfed151-f1f6-4a49-9357-3a33348a6927",
   "metadata": {
    "scrolled": true,
    "ExecuteTime": {
     "end_time": "2023-12-19T02:18:20.558936400Z",
     "start_time": "2023-12-19T02:18:20.532580900Z"
    }
   },
   "outputs": [],
   "source": [
    "# 1. Create the tfrecord files (no-op if already exists)\n",
    "builder.download_and_prepare(download_dir=\"datasets/wiki_auto\")"
   ]
  },
  {
   "cell_type": "code",
   "execution_count": 22,
   "id": "91696961-6e30-454d-b67f-eb1ddae2de45",
   "metadata": {
    "ExecuteTime": {
     "end_time": "2023-12-19T02:18:20.641755400Z",
     "start_time": "2023-12-19T02:18:20.548329800Z"
    }
   },
   "outputs": [
    {
     "data": {
      "text/plain": "{'dev': <_PrefetchDataset element_spec={'GLEU-score': TensorSpec(shape=(), dtype=tf.float64, name=None), 'alignment_label': TensorSpec(shape=(), dtype=tf.int64, name=None), 'normal_sentence': TensorSpec(shape=(), dtype=tf.string, name=None), 'normal_sentence_id': TensorSpec(shape=(), dtype=tf.string, name=None), 'simple_sentence': TensorSpec(shape=(), dtype=tf.string, name=None), 'simple_sentence_id': TensorSpec(shape=(), dtype=tf.string, name=None)}>,\n 'test': <_PrefetchDataset element_spec={'GLEU-score': TensorSpec(shape=(), dtype=tf.float64, name=None), 'alignment_label': TensorSpec(shape=(), dtype=tf.int64, name=None), 'normal_sentence': TensorSpec(shape=(), dtype=tf.string, name=None), 'normal_sentence_id': TensorSpec(shape=(), dtype=tf.string, name=None), 'simple_sentence': TensorSpec(shape=(), dtype=tf.string, name=None), 'simple_sentence_id': TensorSpec(shape=(), dtype=tf.string, name=None)}>}"
     },
     "execution_count": 22,
     "metadata": {},
     "output_type": "execute_result"
    }
   ],
   "source": [
    "# 2. Load the `tf.data.Dataset`\n",
    "dataset = builder.as_dataset()\n",
    "dataset"
   ]
  },
  {
   "cell_type": "code",
   "execution_count": 23,
   "id": "768385e9-477b-4bf9-afd9-34bf5492013e",
   "metadata": {
    "ExecuteTime": {
     "end_time": "2023-12-19T02:18:20.669117400Z",
     "start_time": "2023-12-19T02:18:20.643817100Z"
    }
   },
   "outputs": [
    {
     "data": {
      "text/plain": "<_PrefetchDataset element_spec={'GLEU-score': TensorSpec(shape=(), dtype=tf.float64, name=None), 'alignment_label': TensorSpec(shape=(), dtype=tf.int64, name=None), 'normal_sentence': TensorSpec(shape=(), dtype=tf.string, name=None), 'normal_sentence_id': TensorSpec(shape=(), dtype=tf.string, name=None), 'simple_sentence': TensorSpec(shape=(), dtype=tf.string, name=None), 'simple_sentence_id': TensorSpec(shape=(), dtype=tf.string, name=None)}>"
     },
     "execution_count": 23,
     "metadata": {},
     "output_type": "execute_result"
    }
   ],
   "source": [
    "devset = dataset['dev']\n",
    "testset = dataset['test']\n",
    "devset"
   ]
  },
  {
   "cell_type": "code",
   "execution_count": 24,
   "id": "2b6ed694-a8e1-4364-8bef-97388c709abb",
   "metadata": {
    "ExecuteTime": {
     "end_time": "2023-12-19T02:18:20.679549100Z",
     "start_time": "2023-12-19T02:18:20.658609300Z"
    }
   },
   "outputs": [
    {
     "data": {
      "text/plain": "<_TakeDataset element_spec={'GLEU-score': TensorSpec(shape=(), dtype=tf.float64, name=None), 'alignment_label': TensorSpec(shape=(), dtype=tf.int64, name=None), 'normal_sentence': TensorSpec(shape=(), dtype=tf.string, name=None), 'normal_sentence_id': TensorSpec(shape=(), dtype=tf.string, name=None), 'simple_sentence': TensorSpec(shape=(), dtype=tf.string, name=None), 'simple_sentence_id': TensorSpec(shape=(), dtype=tf.string, name=None)}>"
     },
     "execution_count": 24,
     "metadata": {},
     "output_type": "execute_result"
    }
   ],
   "source": [
    "examples = devset.take(10)  # Take a few examples\n",
    "examples"
   ]
  },
  {
   "cell_type": "code",
   "execution_count": 25,
   "id": "50f45680-6a62-44a2-852a-704f887fdea0",
   "metadata": {
    "ExecuteTime": {
     "end_time": "2023-12-19T02:18:20.739517700Z",
     "start_time": "2023-12-19T02:18:20.675289300Z"
    }
   },
   "outputs": [
    {
     "name": "stdout",
     "output_type": "stream",
     "text": [
      "\t b'For example, in the petroleum industry, sodium hydroxide is used as an additive in drilling mud to increase alkalinity in bentonite mud systems, to increase the mud viscosity, and to neutralize any acid gas (such as hydrogen sulfide and carbon dioxide) which may be encountered in the geological formation as drilling progresses.'\n",
      "\t b'Emer O\\'Sullivan, in her \"Comparative Children\\'s Literature\", notes \"The Hobbit\" as one of a handful of children\\'s books that have been accepted into mainstream literature, alongside Jostein Gaarder\\'s \"Sophie\\'s World\" (1991) and J. K. Rowling\\'s \"Harry Potter\" series (1997\\xe2\\x80\\x932007).'\n",
      "\t b'When certain liquids needs to be purified, siphoning can help prevent either the bottom (dregs) or the top (foam and floaties) from being transferred out of one container into a new container.'\n",
      "\t b'Originally this world was self-contained, but as Tolkien began work on \"The Lord of the Rings\", he decided these stories could fit into the legendarium he had been working on privately for decades.'\n",
      "\t b'This resulted in sabotage acts directed towards the bikers as well as the publication of several provocative manuscripts urging the Christianites to throw out the powerful and armed bikers.'\n",
      "\t b'The main purchasers of munitions from the big three companies were Romania, Yugoslavia, Greece, and Turkey-- and, to a lesser extent, in Poland, Finland, the Baltic States, and the Soviet Union,'\n",
      "\t b'The Dutch sold the fort to king Ali Raja of Arakkal in 1772.'\n",
      "\t b'The Airborne, Thunderbolt, and Republican Guard units each utilize their own camouflaged uniforms.'\n",
      "\t b'The additional illustrations proved so appealing that George Allen & Unwin adopted the colour plates as well for their second printing, with exception of \"Bilbo Woke Up with the Early Sun in His Eyes\".'\n",
      "\t b'The introduction of gunpowder from the Asia at the end of this period revolutionized warfare.'\n"
     ]
    }
   ],
   "source": [
    "for e in examples:\n",
    "    print(\"\\t\", e['normal_sentence'].numpy())"
   ]
  },
  {
   "cell_type": "markdown",
   "id": "6610e353-5608-4f96-a9df-04c580edebe4",
   "metadata": {},
   "source": [
    "---\n",
    "## Dataset preparation"
   ]
  },
  {
   "cell_type": "code",
   "execution_count": 26,
   "id": "75f20f88-3066-4e6e-8eb6-d8e21eeb7798",
   "metadata": {
    "ExecuteTime": {
     "end_time": "2023-12-19T02:18:29.580247Z",
     "start_time": "2023-12-19T02:18:20.736393500Z"
    }
   },
   "outputs": [
    {
     "data": {
      "text/plain": "73249"
     },
     "execution_count": 26,
     "metadata": {},
     "output_type": "execute_result"
    }
   ],
   "source": [
    "devset_iter = devset.as_numpy_iterator()\n",
    "l = 0\n",
    "for i in devset_iter:\n",
    "    l += 1\n",
    "l"
   ]
  },
  {
   "cell_type": "code",
   "execution_count": 27,
   "id": "c24fa8ae-1acc-4b5b-8ee9-83a8406944e7",
   "metadata": {
    "ExecuteTime": {
     "end_time": "2023-12-19T02:18:44.401214100Z",
     "start_time": "2023-12-19T02:18:29.581282300Z"
    }
   },
   "outputs": [
    {
     "data": {
      "text/plain": "118074"
     },
     "execution_count": 27,
     "metadata": {},
     "output_type": "execute_result"
    }
   ],
   "source": [
    "testset_iter = testset.as_numpy_iterator()\n",
    "l = 0\n",
    "for i in testset_iter:\n",
    "    l += 1\n",
    "l"
   ]
  },
  {
   "cell_type": "code",
   "execution_count": 28,
   "id": "1eb88895-6c53-43be-802d-58302dc63e18",
   "metadata": {
    "ExecuteTime": {
     "end_time": "2023-12-19T02:18:46.425803Z",
     "start_time": "2023-12-19T02:18:44.402829400Z"
    }
   },
   "outputs": [
    {
     "ename": "StopIteration",
     "evalue": "",
     "output_type": "error",
     "traceback": [
      "\u001B[1;31m---------------------------------------------------------------------------\u001B[0m",
      "\u001B[1;31mOutOfRangeError\u001B[0m                           Traceback (most recent call last)",
      "File \u001B[1;32m~\\anaconda3\\envs\\p39\\lib\\site-packages\\tensorflow\\python\\data\\ops\\iterator_ops.py:810\u001B[0m, in \u001B[0;36mOwnedIterator.__next__\u001B[1;34m(self)\u001B[0m\n\u001B[0;32m    809\u001B[0m \u001B[38;5;28;01mtry\u001B[39;00m:\n\u001B[1;32m--> 810\u001B[0m   \u001B[38;5;28;01mreturn\u001B[39;00m \u001B[38;5;28;43mself\u001B[39;49m\u001B[38;5;241;43m.\u001B[39;49m\u001B[43m_next_internal\u001B[49m\u001B[43m(\u001B[49m\u001B[43m)\u001B[49m\n\u001B[0;32m    811\u001B[0m \u001B[38;5;28;01mexcept\u001B[39;00m errors\u001B[38;5;241m.\u001B[39mOutOfRangeError:\n",
      "File \u001B[1;32m~\\anaconda3\\envs\\p39\\lib\\site-packages\\tensorflow\\python\\data\\ops\\iterator_ops.py:773\u001B[0m, in \u001B[0;36mOwnedIterator._next_internal\u001B[1;34m(self)\u001B[0m\n\u001B[0;32m    772\u001B[0m \u001B[38;5;28;01mwith\u001B[39;00m context\u001B[38;5;241m.\u001B[39mexecution_mode(context\u001B[38;5;241m.\u001B[39mSYNC):\n\u001B[1;32m--> 773\u001B[0m   ret \u001B[38;5;241m=\u001B[39m \u001B[43mgen_dataset_ops\u001B[49m\u001B[38;5;241;43m.\u001B[39;49m\u001B[43miterator_get_next\u001B[49m\u001B[43m(\u001B[49m\n\u001B[0;32m    774\u001B[0m \u001B[43m      \u001B[49m\u001B[38;5;28;43mself\u001B[39;49m\u001B[38;5;241;43m.\u001B[39;49m\u001B[43m_iterator_resource\u001B[49m\u001B[43m,\u001B[49m\n\u001B[0;32m    775\u001B[0m \u001B[43m      \u001B[49m\u001B[43moutput_types\u001B[49m\u001B[38;5;241;43m=\u001B[39;49m\u001B[38;5;28;43mself\u001B[39;49m\u001B[38;5;241;43m.\u001B[39;49m\u001B[43m_flat_output_types\u001B[49m\u001B[43m,\u001B[49m\n\u001B[0;32m    776\u001B[0m \u001B[43m      \u001B[49m\u001B[43moutput_shapes\u001B[49m\u001B[38;5;241;43m=\u001B[39;49m\u001B[38;5;28;43mself\u001B[39;49m\u001B[38;5;241;43m.\u001B[39;49m\u001B[43m_flat_output_shapes\u001B[49m\u001B[43m)\u001B[49m\n\u001B[0;32m    778\u001B[0m   \u001B[38;5;28;01mtry\u001B[39;00m:\n\u001B[0;32m    779\u001B[0m     \u001B[38;5;66;03m# Fast path for the case `self._structure` is not a nested structure.\u001B[39;00m\n",
      "File \u001B[1;32m~\\anaconda3\\envs\\p39\\lib\\site-packages\\tensorflow\\python\\ops\\gen_dataset_ops.py:3029\u001B[0m, in \u001B[0;36miterator_get_next\u001B[1;34m(iterator, output_types, output_shapes, name)\u001B[0m\n\u001B[0;32m   3028\u001B[0m \u001B[38;5;28;01mexcept\u001B[39;00m _core\u001B[38;5;241m.\u001B[39m_NotOkStatusException \u001B[38;5;28;01mas\u001B[39;00m e:\n\u001B[1;32m-> 3029\u001B[0m   \u001B[43m_ops\u001B[49m\u001B[38;5;241;43m.\u001B[39;49m\u001B[43mraise_from_not_ok_status\u001B[49m\u001B[43m(\u001B[49m\u001B[43me\u001B[49m\u001B[43m,\u001B[49m\u001B[43m \u001B[49m\u001B[43mname\u001B[49m\u001B[43m)\u001B[49m\n\u001B[0;32m   3030\u001B[0m \u001B[38;5;28;01mexcept\u001B[39;00m _core\u001B[38;5;241m.\u001B[39m_FallbackException:\n",
      "File \u001B[1;32m~\\anaconda3\\envs\\p39\\lib\\site-packages\\tensorflow\\python\\framework\\ops.py:5883\u001B[0m, in \u001B[0;36mraise_from_not_ok_status\u001B[1;34m(e, name)\u001B[0m\n\u001B[0;32m   5882\u001B[0m e\u001B[38;5;241m.\u001B[39mmessage \u001B[38;5;241m+\u001B[39m\u001B[38;5;241m=\u001B[39m (\u001B[38;5;124m\"\u001B[39m\u001B[38;5;124m name: \u001B[39m\u001B[38;5;124m\"\u001B[39m \u001B[38;5;241m+\u001B[39m \u001B[38;5;28mstr\u001B[39m(name \u001B[38;5;28;01mif\u001B[39;00m name \u001B[38;5;129;01mis\u001B[39;00m \u001B[38;5;129;01mnot\u001B[39;00m \u001B[38;5;28;01mNone\u001B[39;00m \u001B[38;5;28;01melse\u001B[39;00m \u001B[38;5;124m\"\u001B[39m\u001B[38;5;124m\"\u001B[39m))\n\u001B[1;32m-> 5883\u001B[0m \u001B[38;5;28;01mraise\u001B[39;00m core\u001B[38;5;241m.\u001B[39m_status_to_exception(e) \u001B[38;5;28;01mfrom\u001B[39;00m \u001B[38;5;28;01mNone\u001B[39;00m\n",
      "\u001B[1;31mOutOfRangeError\u001B[0m: {{function_node __wrapped__IteratorGetNext_output_types_6_device_/job:localhost/replica:0/task:0/device:CPU:0}} End of sequence [Op:IteratorGetNext] name: ",
      "\nDuring handling of the above exception, another exception occurred:\n",
      "\u001B[1;31mStopIteration\u001B[0m                             Traceback (most recent call last)",
      "Cell \u001B[1;32mIn[28], line 1\u001B[0m\n\u001B[1;32m----> 1\u001B[0m \u001B[43mdevset_iter\u001B[49m\u001B[38;5;241;43m.\u001B[39;49m\u001B[43mnext\u001B[49m\u001B[43m(\u001B[49m\u001B[43m)\u001B[49m\n",
      "File \u001B[1;32m~\\anaconda3\\envs\\p39\\lib\\site-packages\\tensorflow\\python\\data\\ops\\dataset_ops.py:4736\u001B[0m, in \u001B[0;36mNumpyIterator.next\u001B[1;34m(self)\u001B[0m\n\u001B[0;32m   4735\u001B[0m \u001B[38;5;28;01mdef\u001B[39;00m \u001B[38;5;21mnext\u001B[39m(\u001B[38;5;28mself\u001B[39m):\n\u001B[1;32m-> 4736\u001B[0m   \u001B[38;5;28;01mreturn\u001B[39;00m \u001B[38;5;28;43mself\u001B[39;49m\u001B[38;5;241;43m.\u001B[39;49m\u001B[38;5;21;43m__next__\u001B[39;49m\u001B[43m(\u001B[49m\u001B[43m)\u001B[49m\n",
      "File \u001B[1;32m~\\anaconda3\\envs\\p39\\lib\\site-packages\\tensorflow\\python\\data\\ops\\dataset_ops.py:4733\u001B[0m, in \u001B[0;36mNumpyIterator.__next__\u001B[1;34m(self)\u001B[0m\n\u001B[0;32m   4730\u001B[0m     numpy\u001B[38;5;241m.\u001B[39msetflags(write\u001B[38;5;241m=\u001B[39m\u001B[38;5;28;01mFalse\u001B[39;00m)\n\u001B[0;32m   4731\u001B[0m   \u001B[38;5;28;01mreturn\u001B[39;00m numpy\n\u001B[1;32m-> 4733\u001B[0m \u001B[38;5;28;01mreturn\u001B[39;00m nest\u001B[38;5;241m.\u001B[39mmap_structure(to_numpy, \u001B[38;5;28;43mnext\u001B[39;49m\u001B[43m(\u001B[49m\u001B[38;5;28;43mself\u001B[39;49m\u001B[38;5;241;43m.\u001B[39;49m\u001B[43m_iterator\u001B[49m\u001B[43m)\u001B[49m)\n",
      "File \u001B[1;32m~\\anaconda3\\envs\\p39\\lib\\site-packages\\tensorflow\\python\\data\\ops\\iterator_ops.py:812\u001B[0m, in \u001B[0;36mOwnedIterator.__next__\u001B[1;34m(self)\u001B[0m\n\u001B[0;32m    810\u001B[0m   \u001B[38;5;28;01mreturn\u001B[39;00m \u001B[38;5;28mself\u001B[39m\u001B[38;5;241m.\u001B[39m_next_internal()\n\u001B[0;32m    811\u001B[0m \u001B[38;5;28;01mexcept\u001B[39;00m errors\u001B[38;5;241m.\u001B[39mOutOfRangeError:\n\u001B[1;32m--> 812\u001B[0m   \u001B[38;5;28;01mraise\u001B[39;00m \u001B[38;5;167;01mStopIteration\u001B[39;00m\n",
      "\u001B[1;31mStopIteration\u001B[0m: "
     ]
    }
   ],
   "source": [
    "devset_iter.next()"
   ]
  },
  {
   "cell_type": "code",
   "execution_count": null,
   "id": "a9093267-384d-4e50-a3f4-9f89ede98bae",
   "metadata": {
    "ExecuteTime": {
     "end_time": "2023-12-19T02:18:46.430894500Z",
     "start_time": "2023-12-19T02:18:46.427935500Z"
    }
   },
   "outputs": [],
   "source": [
    "import re\n",
    "import numpy as np\n",
    "import matplotlib.pyplot as plt\n",
    "import seaborn as sns\n",
    "import pandas as pd"
   ]
  },
  {
   "cell_type": "code",
   "execution_count": null,
   "id": "b3e7a18d-2896-4cb4-86c8-ff04073f319a",
   "metadata": {
    "ExecuteTime": {
     "start_time": "2023-12-19T02:18:46.428814400Z"
    }
   },
   "outputs": [],
   "source": [
    "wc_normal = []\n",
    "wc_simple = []\n",
    "for e in devset.as_numpy_iterator():\n",
    "    sentence = str(e['normal_sentence'])\n",
    "    wc = len(re.findall(r'\\w+', sentence))\n",
    "    wc_normal.append(wc)\n",
    "    \n",
    "    sentence = str(e['simple_sentence'])\n",
    "    wc = len(re.findall(r'\\w+', sentence))\n",
    "    wc_simple.append(wc)"
   ]
  },
  {
   "cell_type": "code",
   "execution_count": null,
   "id": "bab289bd-93f4-4fc8-aa64-6c7876baa6eb",
   "metadata": {
    "ExecuteTime": {
     "start_time": "2023-12-19T02:18:46.430894500Z"
    }
   },
   "outputs": [],
   "source": [
    "print(np.mean(wc_normal))\n",
    "print(np.mean(wc_simple))"
   ]
  },
  {
   "cell_type": "code",
   "execution_count": null,
   "id": "68d74561-c820-49d3-b240-2ea2d6d6c50a",
   "metadata": {
    "scrolled": true,
    "ExecuteTime": {
     "end_time": "2023-12-19T02:18:46.434021900Z",
     "start_time": "2023-12-19T02:18:46.430894500Z"
    }
   },
   "outputs": [],
   "source": [
    "for e in devset.as_numpy_iterator():\n",
    "    sent_norm = str(e['normal_sentence'])\n",
    "    wc_norm = len(re.findall(r'\\w+', sent_norm))\n",
    "    \n",
    "    sent_simp = str(e['simple_sentence'])\n",
    "    wc_simp = len(re.findall(r'\\w+', sent_simp))\n",
    "\n",
    "    if wc_norm > 150:\n",
    "        print(str(e['normal_sentence']))"
   ]
  },
  {
   "cell_type": "code",
   "execution_count": null,
   "id": "a63c0e55-cb82-4922-971b-cf79b8213e9d",
   "metadata": {
    "ExecuteTime": {
     "start_time": "2023-12-19T02:18:46.432974700Z"
    }
   },
   "outputs": [],
   "source": [
    "data = {\n",
    "    'Length': wc_normal + wc_simple,\n",
    "    'Type': ['Normal'] * len(wc_normal) + ['Simple'] * len(wc_simple)\n",
    "}\n",
    "df = pd.DataFrame(data)\n",
    "\n",
    "sns.set(style=\"ticks\")\n",
    "f, (ax_hist, ax_box) = plt.subplots(2, sharex=True, \n",
    "                                    gridspec_kw={\"height_ratios\": (.85, .15)})\n",
    "\n",
    "sns.boxplot(x='Length', y='Type', hue='Type', data=df, ax=ax_box, orient='h', whis=[0, 100], palette={'Normal': 'blue', 'Simple': 'orange'})\n",
    "ax_box.set(yticks=[], ylabel=None)\n",
    "ax_box.set(xlabel=None)\n",
    "ax_box.set_axis_off()\n",
    "\n",
    "sns.histplot(x=wc_normal, bins=range(0, max(max(wc_normal), max(wc_simple)) + 1), ax=ax_hist, color='blue', alpha=0.5, label='Normal', stat='density')\n",
    "sns.histplot(x=wc_simple, bins=range(0, max(max(wc_normal), max(wc_simple)) + 1), ax=ax_hist, color='orange', alpha=0.5, label='Simple', stat='density')\n",
    "ax_hist.tick_params(axis='x', which='both', bottom=True, top=False, labelbottom=True)\n",
    "\n",
    "sns.despine(ax=ax_hist)\n",
    "sns.despine(ax=ax_box, left=True)\n",
    "\n",
    "ax_hist.legend()\n",
    "ax_hist.set_title(\"Distribution of Sentence Lengths\")\n",
    "plt.show()"
   ]
  },
  {
   "cell_type": "code",
   "execution_count": null,
   "id": "20dae71b-a906-4bbe-b19f-de37bc86bd0a",
   "metadata": {
    "ExecuteTime": {
     "end_time": "2023-12-19T02:18:46.436212100Z",
     "start_time": "2023-12-19T02:18:46.435192Z"
    }
   },
   "outputs": [],
   "source": [
    "def select_fields(element):\n",
    "    return element['normal_sentence'], element['simple_sentence']\n",
    "\n",
    "transformed_dataset = devset.map(select_fields)\n",
    "transformed_dataset"
   ]
  },
  {
   "cell_type": "code",
   "execution_count": null,
   "id": "099ad588-5f26-4f95-b214-2bad0efcecbe",
   "metadata": {
    "scrolled": true,
    "ExecuteTime": {
     "end_time": "2023-12-19T02:18:46.461556800Z",
     "start_time": "2023-12-19T02:18:46.437251400Z"
    }
   },
   "outputs": [],
   "source": [
    "for step, (normal_sentence, simple_sentence) in enumerate(transformed_dataset):\n",
    "    print(step)\n",
    "    print(normal_sentence)\n",
    "    print(simple_sentence)"
   ]
  },
  {
   "cell_type": "code",
   "execution_count": null,
   "id": "ea91526c-d258-4cd3-900a-b1f2a63fbdcc",
   "metadata": {
    "ExecuteTime": {
     "start_time": "2023-12-19T02:18:46.438305200Z"
    }
   },
   "outputs": [],
   "source": []
  },
  {
   "cell_type": "markdown",
   "id": "916cf270-1374-414d-9eaf-90e0e4890e16",
   "metadata": {},
   "source": [
    "---\n",
    "## Model setup"
   ]
  },
  {
   "cell_type": "code",
   "execution_count": null,
   "id": "9203e247-f7a6-4b15-91f3-153d03ac62b5",
   "metadata": {
    "ExecuteTime": {
     "start_time": "2023-12-19T02:18:46.439415600Z"
    }
   },
   "outputs": [],
   "source": []
  },
  {
   "cell_type": "code",
   "execution_count": null,
   "id": "838f3343-1d0a-4bf2-be11-7dd3dabfd3e0",
   "metadata": {
    "ExecuteTime": {
     "start_time": "2023-12-19T02:18:46.440450Z"
    }
   },
   "outputs": [],
   "source": []
  },
  {
   "cell_type": "markdown",
   "id": "fe011b12-b2d6-4ff4-8e33-dcce282e05b2",
   "metadata": {},
   "source": [
    "---\n",
    "## Model training"
   ]
  },
  {
   "cell_type": "code",
   "execution_count": null,
   "id": "05988149-0c4b-4b6e-abb9-cadc0146d419",
   "metadata": {
    "ExecuteTime": {
     "start_time": "2023-12-19T02:18:46.442589800Z"
    }
   },
   "outputs": [],
   "source": []
  },
  {
   "cell_type": "code",
   "execution_count": null,
   "id": "bb1dd580-e353-42fc-9819-a077651c62c8",
   "metadata": {
    "ExecuteTime": {
     "start_time": "2023-12-19T02:18:46.443885100Z"
    }
   },
   "outputs": [],
   "source": []
  }
 ],
 "metadata": {
  "kernelspec": {
   "display_name": "Python 3 (ipykernel)",
   "language": "python",
   "name": "python3"
  },
  "language_info": {
   "codemirror_mode": {
    "name": "ipython",
    "version": 3
   },
   "file_extension": ".py",
   "mimetype": "text/x-python",
   "name": "python",
   "nbconvert_exporter": "python",
   "pygments_lexer": "ipython3",
   "version": "3.9.18"
  }
 },
 "nbformat": 4,
 "nbformat_minor": 5
}
