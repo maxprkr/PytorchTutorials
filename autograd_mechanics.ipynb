{
  "cells": [
    {
      "cell_type": "code",
      "execution_count": 1,
      "metadata": {},
      "outputs": [
        {
          "name": "stdout",
          "output_type": "stream",
          "text": [
            "2.1.2+cu118\n",
            "cuda\n"
          ]
        }
      ],
      "source": [
        "# https://pytorch.org/docs/stable/notes/autograd.html\n",
        "# pip install torch==2.1+cu123 -f https://download.pytorch.org/whl/torch_stable.html\n",
        "import torch\n",
        "print(torch.__version__)\n",
        "device = \"cuda\" if torch.cuda.is_available() else \"cpu\"\n",
        "print(device)"
      ]
    },
    {
      "cell_type": "code",
      "execution_count": 1,
      "metadata": {},
      "outputs": [
        {
          "name": "stdout",
          "output_type": "stream",
          "text": [
            "cuda\n",
            "True\n",
            "True\n"
          ]
        }
      ],
      "source": [
        "import torch\n",
        "device = \"cuda\" if torch.cuda.is_available() else \"cpu\"\n",
        "print(device)\n",
        "x = torch.randn(5, requires_grad=True)\n",
        "y = x.pow(2)\n",
        "print(x.equal(y.grad_fn._saved_self))  # True\n",
        "print(x is y.grad_fn._saved_self)  # True"
      ]
    },
    {
      "cell_type": "code",
      "execution_count": 7,
      "metadata": {},
      "outputs": [
        {
          "name": "stdout",
          "output_type": "stream",
          "text": [
            "True\n",
            "False\n"
          ]
        }
      ],
      "source": [
        "x = torch.randn(5, requires_grad=True)\n",
        "y = x.exp()\n",
        "print(y.equal(y.grad_fn._saved_result))  # True\n",
        "print(y is y.grad_fn._saved_result)  # False"
      ]
    },
    {
      "cell_type": "code",
      "execution_count": 5,
      "metadata": {},
      "outputs": [],
      "source": [
        "import threading\n",
        "# Define a train function to be used in different threads\n",
        "def train_fn():\n",
        "    x = torch.ones(5, 5, requires_grad=True)\n",
        "    # forward\n",
        "    y = (x + 3) * (x + 4) * 0.5\n",
        "    # backward\n",
        "    y.sum().backward()\n",
        "    # potential optimizer update\n",
        "\n",
        "\n",
        "# User write their own threading code to drive the train_fn\n",
        "threads = []\n",
        "for _ in range(10):\n",
        "    p = threading.Thread(target=train_fn, args=())\n",
        "    p.start()\n",
        "    threads.append(p)\n",
        "\n",
        "for p in threads:\n",
        "    p.join()"
      ]
    },
    {
      "cell_type": "code",
      "execution_count": 6,
      "metadata": {},
      "outputs": [],
      "source": [
        "class LLTM(torch.nn.Module):\n",
        "    def __init__(self, input_features, state_size):\n",
        "        super(LLTM, self).__init__()\n",
        "        self.input_features = input_features\n",
        "        self.state_size = state_size\n",
        "        # 3 * state_size for input gate, output gate and candidate cell gate.\n",
        "        # input_features + state_size because we will multiply with [input, h].\n",
        "        self.weights = torch.nn.Parameter(\n",
        "            torch.empty(3 * state_size, input_features + state_size))\n",
        "        self.bias = torch.nn.Parameter(torch.empty(3 * state_size))\n",
        "        self.reset_parameters()\n",
        "\n",
        "    def reset_parameters(self):\n",
        "        stdv = 1.0 / math.sqrt(self.state_size)\n",
        "        for weight in self.parameters():\n",
        "            weight.data.uniform_(-stdv, +stdv)\n",
        "\n",
        "    def forward(self, input, state):\n",
        "        old_h, old_cell = state\n",
        "        X = torch.cat([old_h, input], dim=1)\n",
        "\n",
        "        # Compute the input, output and candidate cell gates with one MM.\n",
        "        gate_weights = F.linear(X, self.weights, self.bias)\n",
        "        # Split the combined gate weight matrix into its components.\n",
        "        gates = gate_weights.chunk(3, dim=1)\n",
        "\n",
        "        input_gate = torch.sigmoid(gates[0])\n",
        "        output_gate = torch.sigmoid(gates[1])\n",
        "        # Here we use an ELU instead of the usual tanh.\n",
        "        candidate_cell = F.elu(gates[2])\n",
        "\n",
        "        # Compute the new cell state.\n",
        "        new_cell = old_cell + candidate_cell * input_gate\n",
        "        # Compute the new hidden state and output.\n",
        "        new_h = torch.tanh(new_cell) * output_gate\n",
        "\n",
        "        return new_h, new_cell"
      ]
    },
    {
      "cell_type": "code",
      "execution_count": null,
      "metadata": {},
      "outputs": [],
      "source": [
        "torch.nn.Module."
      ]
    }
  ],
  "metadata": {
    "kernelspec": {
      "display_name": "Python 3",
      "language": "python",
      "name": "python3"
    },
    "language_info": {
      "codemirror_mode": {
        "name": "ipython",
        "version": 3
      },
      "file_extension": ".py",
      "mimetype": "text/x-python",
      "name": "python",
      "nbconvert_exporter": "python",
      "pygments_lexer": "ipython3",
      "version": "3.9.18"
    }
  },
  "nbformat": 4,
  "nbformat_minor": 0
}
